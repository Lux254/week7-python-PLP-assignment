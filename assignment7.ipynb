{
 "cells": [
  {
   "cell_type": "code",
   "execution_count": null,
   "id": "6c16a038-3913-4865-aa10-28a45a81d06b",
   "metadata": {},
   "outputs": [],
   "source": [
    "import pandas as pd \n",
    "import numpy as np \n",
    "import matplotlib.pyplot as plt\n",
    "import seaborn as sns"
   ]
  },
  {
   "cell_type": "code",
   "execution_count": null,
   "id": "5fa4119f-004b-45e3-9f17-07d70ecb25c9",
   "metadata": {},
   "outputs": [],
   "source": [
    "#loading the dataset and displaying first 5 rows\n",
    "\n",
    "data = pd.read_csv(r\"C:\\Users\\user\\Downloads\\market_data.csv\")\n",
    "data.head()"
   ]
  },
  {
   "cell_type": "code",
   "execution_count": null,
   "id": "da50f884-f95d-492b-b29e-fa59e21126f7",
   "metadata": {},
   "outputs": [],
   "source": [
    "#exploring data types\n",
    "\n",
    "data.info()"
   ]
  },
  {
   "cell_type": "code",
   "execution_count": null,
   "id": "a98ac4f1-133b-420c-94bb-c19d5a2d3b40",
   "metadata": {},
   "outputs": [],
   "source": [
    "#checking for null values\n",
    "\n",
    "data.isnull().sum()"
   ]
  },
  {
   "cell_type": "code",
   "execution_count": null,
   "id": "9a09e92e-47b6-48a8-95fa-00346f870506",
   "metadata": {},
   "outputs": [],
   "source": [
    "#filling null values with mean and mode\n",
    "\n",
    "item_weight_mean = data[\"Item_Weight\"].mean()\n",
    "outlet_size_mode = data[\"Outlet_Size\"].mode()[0]\n",
    "\n",
    "data[\"Item_Weight\"].fillna(item_weight_mean, inplace = True)\n",
    "data[\"Outlet_Size\"].fillna(outlet_size_mode, inplace = True)"
   ]
  },
  {
   "cell_type": "code",
   "execution_count": null,
   "id": "76b4bddb-ba01-486c-99c4-bd4ccc31ab4b",
   "metadata": {},
   "outputs": [],
   "source": [
    "#computing basic data statistics for numerical columns\n",
    "\n",
    "data.describe()"
   ]
  },
  {
   "cell_type": "code",
   "execution_count": null,
   "id": "6583d7e8-2b71-4a36-8d2c-0018b699a400",
   "metadata": {},
   "outputs": [],
   "source": [
    "#groupings on a categorical column\n",
    "\n",
    "grouped_data = data.groupby('Item_Type')['Item_MRP'].mean()\n",
    "grouped_data"
   ]
  },
  {
   "cell_type": "code",
   "execution_count": null,
   "id": "99df5c29-a6b6-48d9-ba0b-61f8fcde1393",
   "metadata": {},
   "outputs": [],
   "source": [
    "#findings - Dairy foods have the highest MRP, while Baking Goods have the lowest MRP"
   ]
  },
  {
   "cell_type": "code",
   "execution_count": null,
   "id": "8558383e-e39f-42d6-9f2b-4684ea2ed720",
   "metadata": {},
   "outputs": [],
   "source": [
    "#bar graph\n",
    "\n",
    "sales_by_item = data.groupby('Item_Type')['Item_Outlet_Sales'].mean().sort_values()\n",
    "plt.figure(figsize=(12,6))\n",
    "sns.barplot(x=sales_by_item.index, y=sales_by_item.values)\n",
    "plt.xticks(rotation=90)\n",
    "plt.title(\"Average Sales by Item Type\")\n",
    "plt.show()"
   ]
  },
  {
   "cell_type": "code",
   "execution_count": null,
   "id": "0bbc65d0-60ac-4557-bc8e-e77eebb161ab",
   "metadata": {},
   "outputs": [],
   "source": [
    "#histogram\n",
    "\n",
    "plt.figure(figsize=(8,6))\n",
    "sns.histplot(data['Item_Outlet_Sales'], bins=30, kde=True) \n",
    "plt.title(\"Distribution of Item Outlet Sales\")\n",
    "plt.xlabel(\"Item Outlet Sales\")\n",
    "plt.ylabel(\"Frequency\")\n",
    "plt.show()"
   ]
  },
  {
   "cell_type": "code",
   "execution_count": null,
   "id": "e15bb20b-f053-4c0b-8a7b-662cb4cc339d",
   "metadata": {},
   "outputs": [],
   "source": [
    "#scatter plot\n",
    "\n",
    "plt.figure(figsize=(8,6))\n",
    "sns.scatterplot(x='Item_MRP', y='Item_Outlet_Sales', data=data, alpha=0.5)\n",
    "plt.title(\"Item Price vs Sales\")\n",
    "plt.show()"
   ]
  },
  {
   "cell_type": "code",
   "execution_count": null,
   "id": "79b7f4d2-fcab-48ef-98bd-5815d415bdcb",
   "metadata": {},
   "outputs": [],
   "source": [
    "#line graph\n",
    "\n",
    "sales_by_year = data.groupby('Outlet_Establishment_Year')['Item_Outlet_Sales'].mean()\n",
    "plt.figure(figsize=(10,6))\n",
    "sns.lineplot(x=sales_by_year.index, y=sales_by_year.values, marker='o')\n",
    "plt.title(\"Average Sales by Outlet Establishment Year\")\n",
    "plt.show()"
   ]
  },
  {
   "cell_type": "code",
   "execution_count": null,
   "id": "5006b7b7-7adf-47d6-ac7d-78f29cb1926e",
   "metadata": {},
   "outputs": [],
   "source": []
  }
 ],
 "metadata": {
  "kernelspec": {
   "display_name": "Python [conda env:base] *",
   "language": "python",
   "name": "conda-base-py"
  },
  "language_info": {
   "codemirror_mode": {
    "name": "ipython",
    "version": 3
   },
   "file_extension": ".py",
   "mimetype": "text/x-python",
   "name": "python",
   "nbconvert_exporter": "python",
   "pygments_lexer": "ipython3",
   "version": "3.12.7"
  }
 },
 "nbformat": 4,
 "nbformat_minor": 5
}
